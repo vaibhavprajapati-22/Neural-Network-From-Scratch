{
 "cells": [
  {
   "cell_type": "code",
   "id": "initial_id",
   "metadata": {
    "collapsed": true,
    "ExecuteTime": {
     "end_time": "2024-05-29T19:08:04.066165Z",
     "start_time": "2024-05-29T19:08:02.508856Z"
    }
   },
   "source": [
    "import numpy as np\n",
    "import struct\n",
    "import matplotlib.pyplot as plt\n",
    "from layers import Linear_Layer\n",
    "from activation_functions import ReLU, Softmax, Sigmoid, Tanh\n",
    "from loss_functions import Categorical_Cross_Entropy_Loss, Binary_Cross_Entropy_Loss\n",
    "from optimizers import Stochastic_Gradient_Descent, Learning_Rate_Scheduler, Stochastic_Gradient_Descent_With_Momentum, AdaGrad, RMSProp, Adadelta, Adam\n",
    "from metrics import Accuracy, DataLoader"
   ],
   "outputs": [],
   "execution_count": 1
  },
  {
   "metadata": {
    "ExecuteTime": {
     "end_time": "2024-05-29T19:08:33.486632Z",
     "start_time": "2024-05-29T19:08:33.481796Z"
    }
   },
   "cell_type": "code",
   "source": [
    "def load_images(file_path):\n",
    "    with open(file_path, 'rb') as f:\n",
    "        _, num, rows, cols = struct.unpack(\">IIII\", f.read(16))\n",
    "        images = np.fromfile(f, dtype=np.uint8).reshape(num, rows, cols)\n",
    "        return images"
   ],
   "id": "f8fd4d850167d4f1",
   "outputs": [],
   "execution_count": 2
  },
  {
   "metadata": {
    "ExecuteTime": {
     "end_time": "2024-05-29T19:08:34.259523Z",
     "start_time": "2024-05-29T19:08:34.249955Z"
    }
   },
   "cell_type": "code",
   "source": [
    "def load_labels(file_path):\n",
    "    with open(file_path, 'rb') as f:\n",
    "        _, num_labels = struct.unpack(\">II\", f.read(8))\n",
    "        labels = np.fromfile(f, dtype=np.uint8)\n",
    "    return labels"
   ],
   "id": "478c12023696a8c8",
   "outputs": [],
   "execution_count": 3
  },
  {
   "metadata": {
    "ExecuteTime": {
     "end_time": "2024-05-29T19:08:34.729662Z",
     "start_time": "2024-05-29T19:08:34.597932Z"
    }
   },
   "cell_type": "code",
   "source": [
    "train_images = load_images(\"MNIST/train-images.idx3-ubyte\")\n",
    "train_labels = load_labels(\"MNIST/train-labels.idx1-ubyte\")\n",
    "test_images = load_images(\"MNIST/t10k-images.idx3-ubyte\")\n",
    "test_labels = load_labels(\"MNIST/t10k-labels.idx1-ubyte\")"
   ],
   "id": "9ed8f1a139bccfaa",
   "outputs": [],
   "execution_count": 4
  },
  {
   "metadata": {
    "ExecuteTime": {
     "end_time": "2024-05-29T19:08:35.052236Z",
     "start_time": "2024-05-29T19:08:34.890176Z"
    }
   },
   "cell_type": "code",
   "source": [
    "train_images = train_images.astype('float32') / 255.0\n",
    "test_images = test_images.astype('float32') / 255.0"
   ],
   "id": "ae76f75ead557fca",
   "outputs": [],
   "execution_count": 5
  },
  {
   "metadata": {
    "ExecuteTime": {
     "end_time": "2024-05-29T19:08:35.169347Z",
     "start_time": "2024-05-29T19:08:35.159605Z"
    }
   },
   "cell_type": "code",
   "source": [
    "def display_images(images, labels, rows, cols):\n",
    "    fig, axes = plt.subplots(nrows=rows, ncols=cols, figsize=(cols*2, rows*2))\n",
    "    for i, ax in enumerate(axes.flat):\n",
    "        ax.imshow(images[i], cmap='gray')\n",
    "        ax.set_title(f\"Label: {labels[i]}\")\n",
    "        ax.set_xticks([])\n",
    "        ax.set_yticks([])\n",
    "    plt.tight_layout()\n",
    "    plt.show()"
   ],
   "id": "6c20a441f56673b0",
   "outputs": [],
   "execution_count": 6
  },
  {
   "metadata": {
    "ExecuteTime": {
     "end_time": "2024-05-29T19:08:35.787250Z",
     "start_time": "2024-05-29T19:08:35.390245Z"
    }
   },
   "cell_type": "code",
   "source": "display_images(train_images, train_labels, 2, 5)",
   "id": "970454169390a1",
   "outputs": [
    {
     "data": {
      "text/plain": [
       "<Figure size 1000x400 with 10 Axes>"
      ],
      "image/png": "[encoded data removed]"
     },
     "metadata": {},
     "output_type": "display_data"
    }
   ],
   "execution_count": 7
  },
  {
   "metadata": {
    "ExecuteTime": {
     "end_time": "2024-05-29T19:08:35.793203Z",
     "start_time": "2024-05-29T19:08:35.788915Z"
    }
   },
   "cell_type": "code",
   "source": [
    "n_inputs = 784\n",
    "n_hidden_1 = 196\n",
    "n_hidden_2 = 49\n",
    "n_outputs = 10\n",
    "num_classes = 10\n",
    "epochs = 200"
   ],
   "id": "c4562b613d5feebc",
   "outputs": [],
   "execution_count": 8
  },
  {
   "metadata": {
    "ExecuteTime": {
     "end_time": "2024-05-29T19:08:35.935722Z",
     "start_time": "2024-05-29T19:08:35.928941Z"
    }
   },
   "cell_type": "code",
   "source": [
    "class Model:\n",
    "    def __init__(self, n_inputs, n_hidden_1, n_hidden_2, n_outputs):\n",
    "        self.L1 = Linear_Layer(n_inputs, n_hidden_1)\n",
    "        self.tanh = Tanh()\n",
    "        self.L2 = Linear_Layer(n_hidden_1, n_hidden_2)\n",
    "        self.relu2 = ReLU()\n",
    "        self.L3 = Linear_Layer(n_hidden_2, n_outputs)\n",
    "        self.softmax = Softmax()\n",
    "    \n",
    "    def forward(self, inputs):\n",
    "        outputs = self.L1.forward(inputs)\n",
    "        outputs = self.tanh.forward(outputs)\n",
    "        outputs = self.L2.forward(outputs)\n",
    "        outputs = self.relu2.forward(outputs)\n",
    "        outputs = self.L3.forward(outputs)\n",
    "        outputs = self.softmax.forward(outputs)\n",
    "        return outputs\n",
    "    \n",
    "    def num_parameters(self):\n",
    "        return self.L1.num_parameters() + self.L2.num_parameters() + self.L3.num_parameters()\n",
    "    \n",
    "    def backward(self, optimizer, loss, targets, outputs):\n",
    "        loss.backward(targets, outputs)\n",
    "        self.softmax.backward(loss.dinputs)\n",
    "        self.L3.backward(self.softmax.dinputs)\n",
    "        self.relu2.backward(self.L3.dinputs)\n",
    "        self.L2.backward(self.relu2.dinputs)\n",
    "        self.tanh.backward(self.L2.dinputs)\n",
    "        self.L1.backward(self.tanh.dinputs)\n",
    "        optimizer.update_params(self.L1)\n",
    "        optimizer.update_params(self.L2)\n",
    "        optimizer.update_params(self.L3)\n",
    "        "
   ],
   "id": "31e0d3da2cef16d0",
   "outputs": [],
   "execution_count": 9
  },
  {
   "metadata": {
    "ExecuteTime": {
     "end_time": "2024-05-29T19:08:36.254189Z",
     "start_time": "2024-05-29T19:08:36.248934Z"
    }
   },
   "cell_type": "code",
   "source": [
    "enc_train_labels = np.eye(num_classes)[train_labels]\n",
    "enc_test_labels = np.eye(num_classes)[test_labels]"
   ],
   "id": "a90f102d941f8ea8",
   "outputs": [],
   "execution_count": 10
  },
  {
   "metadata": {
    "ExecuteTime": {
     "end_time": "2024-05-29T19:08:36.580995Z",
     "start_time": "2024-05-29T19:08:36.569996Z"
    }
   },
   "cell_type": "code",
   "source": [
    "criterion = Categorical_Cross_Entropy_Loss()\n",
    "accuracy = Accuracy()"
   ],
   "id": "80d4bb9795bee1f",
   "outputs": [],
   "execution_count": 11
  },
  {
   "metadata": {
    "ExecuteTime": {
     "end_time": "2024-05-29T19:08:36.853804Z",
     "start_time": "2024-05-29T19:08:36.848795Z"
    }
   },
   "cell_type": "code",
   "source": [
    "x_images = train_images\n",
    "x_test = test_images\n",
    "y_train_labels = enc_train_labels\n",
    "y_test_labels = enc_test_labels\n",
    "x_images = x_images.reshape(-1,28 * 28)\n",
    "x_test = x_test.reshape(-1,28 * 28)"
   ],
   "id": "bc3f6998edfb2e33",
   "outputs": [],
   "execution_count": 12
  },
  {
   "metadata": {
    "ExecuteTime": {
     "end_time": "2024-05-29T19:08:37.270204Z",
     "start_time": "2024-05-29T19:08:37.148610Z"
    }
   },
   "cell_type": "code",
   "source": "data_loader = DataLoader(x_images, y_train_labels, batch_size=32, shuffle=True)",
   "id": "afb526cea7b84f73",
   "outputs": [],
   "execution_count": 13
  },
  {
   "metadata": {
    "ExecuteTime": {
     "end_time": "2024-05-29T19:08:37.471681Z",
     "start_time": "2024-05-29T19:08:37.468098Z"
    }
   },
   "cell_type": "code",
   "source": "x_train,y_train = data_loader.batch_data()",
   "id": "6d7463297356a7b1",
   "outputs": [],
   "execution_count": 14
  },
  {
   "metadata": {},
   "cell_type": "markdown",
   "source": "Mini-Batch Gradient Descent ",
   "id": "3b165284347d0b7c"
  },
  {
   "metadata": {
    "ExecuteTime": {
     "end_time": "2024-05-29T19:08:38.145173Z",
     "start_time": "2024-05-29T19:08:38.139931Z"
    }
   },
   "cell_type": "code",
   "source": "lr = 1e-2",
   "id": "e35493afe68f8d76",
   "outputs": [],
   "execution_count": 15
  },
  {
   "metadata": {
    "ExecuteTime": {
     "end_time": "2024-05-29T19:08:38.638802Z",
     "start_time": "2024-05-29T19:08:38.629023Z"
    }
   },
   "cell_type": "code",
   "source": "model_1 = Model(n_inputs, n_hidden_1, n_hidden_2, n_outputs)",
   "id": "57476cc448d0291a",
   "outputs": [],
   "execution_count": 16
  },
  {
   "metadata": {
    "ExecuteTime": {
     "end_time": "2024-05-29T19:08:38.962569Z",
     "start_time": "2024-05-29T19:08:38.958975Z"
    }
   },
   "cell_type": "code",
   "source": [
    "optimizer = Stochastic_Gradient_Descent(lr=lr)\n",
    "scheduler = Learning_Rate_Scheduler(learning_rate=lr, decay_rate=0.9, decay_step=5) "
   ],
   "id": "7c5e2f32afd7af38",
   "outputs": [],
   "execution_count": 17
  },
  {
   "metadata": {
    "ExecuteTime": {
     "end_time": "2024-05-29T19:08:39.280921Z",
     "start_time": "2024-05-29T19:08:39.270060Z"
    }
   },
   "cell_type": "code",
   "source": [
    "loss_train = []\n",
    "loss_test = []"
   ],
   "id": "b29aa14638aa770d",
   "outputs": [],
   "execution_count": 18
  },
  {
   "metadata": {
    "ExecuteTime": {
     "end_time": "2024-05-29T19:51:21.392696Z",
     "start_time": "2024-05-29T19:08:39.808827Z"
    }
   },
   "cell_type": "code",
   "source": [
    "for epoch in range(epochs):\n",
    "    loss_ep = 0\n",
    "    total_accuracy = 0\n",
    "    for x,y in zip(x_train,y_train):\n",
    "        outputs = model_1.forward(x)\n",
    "        loss_batch = criterion.forward(y, outputs)\n",
    "        loss_ep += loss_batch\n",
    "        batch_acc = accuracy.forward(y, outputs)\n",
    "        total_accuracy += batch_acc\n",
    "        model_1.backward(optimizer, criterion, y, outputs)\n",
    "    loss_ep = loss_ep / len(x_train)\n",
    "    total_accuracy = total_accuracy/len(x_train)\n",
    "    loss_train.append(loss_ep)\n",
    "    outputs = model_1.forward(x_test)\n",
    "    test_loss_ep = criterion.forward(y_test_labels, outputs)\n",
    "    loss_test.append(test_loss_ep)\n",
    "    if (epoch + 1) % 10 == 0:\n",
    "        test_accuracy = accuracy.forward(y_test_labels, outputs)\n",
    "        print(f\"Epoch: {epoch + 1} / {epochs},Training Loss: {loss_ep:.4f},Training Accuracy: {total_accuracy:.4f}, Test Loss: {test_loss_ep:.4f},Test Accuracy: {test_accuracy:.4f}\")\n",
    "\n",
    "    optimizer.lr = scheduler.update_lr()\n",
    "    scheduler.update_step()"
   ],
   "id": "81feb350aac5231f",
   "outputs": [
    {
     "name": "stdout",
     "output_type": "stream",
     "text": [
      "Epoch: 10 / 200,Training Loss: 0.1393,Training Accuracy: 0.9603, Test Loss: 0.1481,Test Accuracy: 0.9576\n",
      "Epoch: 20 / 200,Training Loss: 0.0889,Training Accuracy: 0.9751, Test Loss: 0.1127,Test Accuracy: 0.9674\n",
      "Epoch: 30 / 200,Training Loss: 0.0655,Training Accuracy: 0.9821, Test Loss: 0.0988,Test Accuracy: 0.9704\n",
      "Epoch: 40 / 200,Training Loss: 0.0520,Training Accuracy: 0.9863, Test Loss: 0.0922,Test Accuracy: 0.9730\n",
      "Epoch: 50 / 200,Training Loss: 0.0433,Training Accuracy: 0.9891, Test Loss: 0.0889,Test Accuracy: 0.9735\n",
      "Epoch: 60 / 200,Training Loss: 0.0373,Training Accuracy: 0.9909, Test Loss: 0.0872,Test Accuracy: 0.9739\n",
      "Epoch: 70 / 200,Training Loss: 0.0331,Training Accuracy: 0.9922, Test Loss: 0.0863,Test Accuracy: 0.9744\n",
      "Epoch: 80 / 200,Training Loss: 0.0301,Training Accuracy: 0.9930, Test Loss: 0.0858,Test Accuracy: 0.9747\n",
      "Epoch: 90 / 200,Training Loss: 0.0279,Training Accuracy: 0.9940, Test Loss: 0.0856,Test Accuracy: 0.9751\n",
      "Epoch: 100 / 200,Training Loss: 0.0262,Training Accuracy: 0.9945, Test Loss: 0.0855,Test Accuracy: 0.9754\n",
      "Epoch: 110 / 200,Training Loss: 0.0249,Training Accuracy: 0.9948, Test Loss: 0.0855,Test Accuracy: 0.9752\n",
      "Epoch: 120 / 200,Training Loss: 0.0239,Training Accuracy: 0.9952, Test Loss: 0.0856,Test Accuracy: 0.9752\n",
      "Epoch: 130 / 200,Training Loss: 0.0231,Training Accuracy: 0.9955, Test Loss: 0.0856,Test Accuracy: 0.9749\n",
      "Epoch: 140 / 200,Training Loss: 0.0225,Training Accuracy: 0.9958, Test Loss: 0.0857,Test Accuracy: 0.9749\n",
      "Epoch: 150 / 200,Training Loss: 0.0220,Training Accuracy: 0.9959, Test Loss: 0.0857,Test Accuracy: 0.9750\n",
      "Epoch: 160 / 200,Training Loss: 0.0216,Training Accuracy: 0.9961, Test Loss: 0.0857,Test Accuracy: 0.9752\n",
      "Epoch: 170 / 200,Training Loss: 0.0213,Training Accuracy: 0.9962, Test Loss: 0.0858,Test Accuracy: 0.9752\n",
      "Epoch: 180 / 200,Training Loss: 0.0211,Training Accuracy: 0.9962, Test Loss: 0.0858,Test Accuracy: 0.9752\n",
      "Epoch: 190 / 200,Training Loss: 0.0209,Training Accuracy: 0.9963, Test Loss: 0.0858,Test Accuracy: 0.9752\n",
      "Epoch: 200 / 200,Training Loss: 0.0207,Training Accuracy: 0.9964, Test Loss: 0.0859,Test Accuracy: 0.9752\n"
     ]
    }
   ],
   "execution_count": 19
  },
  {
   "metadata": {
    "ExecuteTime": {
     "end_time": "2024-05-29T20:07:12.751462Z",
     "start_time": "2024-05-29T20:07:11.862336Z"
    }
   },
   "cell_type": "code",
   "source": [
    "plt.plot(loss_train)\n",
    "plt.plot(loss_test)\n",
    "plt.xlabel('Epoch')\n",
    "plt.ylabel('Loss')\n",
    "plt.show()"
   ],
   "id": "e3791bff109216e6",
   "outputs": [
    {
     "data": {
      "text/plain": [
       "<Figure size 640x480 with 1 Axes>"
      ],
      "image/png": "[encoded data removed]"
     },
     "metadata": {},
     "output_type": "display_data"
    }
   ],
   "execution_count": 20
  },
  {
   "metadata": {},
   "cell_type": "markdown",
   "source": [
    "Mini-Batch Gradient Descent \n",
    "\n",
    "lr = 1e-2\n",
    "\n",
    "epochs = 200\n",
    "\n",
    "optimizer = Stochastic_Gradient_Descent(lr=lr)\n",
    "\n",
    "scheduler = Learning_Rate_Scheduler(learning_rate=lr, decay_rate=0.9, decay_step=5) \n",
    "\n",
    "Training Loss: 0.0207,Training Accuracy: 0.9964, Test Loss: 0.0859,Test Accuracy: 0.9752"
   ],
   "id": "15c63292d9d4541"
  },
  {
   "metadata": {},
   "cell_type": "markdown",
   "source": "Mini-Batch Gradient Descent with Momentum",
   "id": "5790c96dbb93f93b"
  },
  {
   "metadata": {
    "ExecuteTime": {
     "end_time": "2024-05-29T20:07:50.319460Z",
     "start_time": "2024-05-29T20:07:50.300352Z"
    }
   },
   "cell_type": "code",
   "source": "lr = 5e-2",
   "id": "7f5c8dc1ab7452",
   "outputs": [],
   "execution_count": 21
  },
  {
   "metadata": {
    "ExecuteTime": {
     "end_time": "2024-05-29T20:07:50.937670Z",
     "start_time": "2024-05-29T20:07:50.918692Z"
    }
   },
   "cell_type": "code",
   "source": "model_2 = Model(n_inputs, n_hidden_1, n_hidden_2, n_outputs)",
   "id": "96ba38457ce45731",
   "outputs": [],
   "execution_count": 22
  },
  {
   "metadata": {
    "ExecuteTime": {
     "end_time": "2024-05-29T20:07:51.692045Z",
     "start_time": "2024-05-29T20:07:51.684755Z"
    }
   },
   "cell_type": "code",
   "source": [
    "optimizer = Stochastic_Gradient_Descent_With_Momentum(lr=lr)\n",
    "scheduler = Learning_Rate_Scheduler(learning_rate=lr, decay_rate=0.9, decay_step=5)"
   ],
   "id": "e983ed429d848c01",
   "outputs": [],
   "execution_count": 23
  },
  {
   "metadata": {
    "ExecuteTime": {
     "end_time": "2024-05-29T20:07:53.613960Z",
     "start_time": "2024-05-29T20:07:53.594914Z"
    }
   },
   "cell_type": "code",
   "source": [
    "loss_train = []\n",
    "loss_test = []"
   ],
   "id": "f78f24dfb9a2304e",
   "outputs": [],
   "execution_count": 24
  },
  {
   "metadata": {
    "ExecuteTime": {
     "end_time": "2024-05-29T21:05:23.856682Z",
     "start_time": "2024-05-29T20:07:54.362426Z"
    }
   },
   "cell_type": "code",
   "source": [
    "for epoch in range(epochs):\n",
    "    loss_ep = 0\n",
    "    total_accuracy = 0\n",
    "    for x,y in zip(x_train,y_train):\n",
    "        outputs = model_2.forward(x)\n",
    "        loss_batch = criterion.forward(y, outputs)\n",
    "        loss_ep += loss_batch\n",
    "        batch_acc = accuracy.forward(y, outputs)\n",
    "        total_accuracy += batch_acc\n",
    "        model_2.backward(optimizer, criterion, y, outputs)\n",
    "    loss_ep = loss_ep / len(x_train)\n",
    "    total_accuracy = total_accuracy/len(x_train)\n",
    "    loss_train.append(loss_ep)\n",
    "    outputs = model_2.forward(x_test)\n",
    "    test_loss_ep = criterion.forward(y_test_labels, outputs)\n",
    "    loss_test.append(test_loss_ep)\n",
    "    if (epoch + 1) % 10 == 0:\n",
    "        test_accuracy = accuracy.forward(y_test_labels, outputs)\n",
    "        print(f\"Epoch: {epoch + 1} / {epochs},Training Loss: {loss_ep:.4f},Training Accuracy: {total_accuracy:.4f}, Test Loss: {test_loss_ep:.4f},Test Accuracy: {test_accuracy:.4f}\")\n",
    "\n",
    "    optimizer.lr = scheduler.update_lr()\n",
    "    scheduler.update_step()"
   ],
   "id": "5fe95e7764f586a0",
   "outputs": [
    {
     "name": "stdout",
     "output_type": "stream",
     "text": [
      "Epoch: 10 / 200,Training Loss: 0.0366,Training Accuracy: 0.9908, Test Loss: 0.0790,Test Accuracy: 0.9746\n",
      "Epoch: 20 / 200,Training Loss: 0.0090,Training Accuracy: 0.9990, Test Loss: 0.0756,Test Accuracy: 0.9775\n",
      "Epoch: 30 / 200,Training Loss: 0.0037,Training Accuracy: 0.9999, Test Loss: 0.0778,Test Accuracy: 0.9781\n",
      "Epoch: 40 / 200,Training Loss: 0.0022,Training Accuracy: 1.0000, Test Loss: 0.0800,Test Accuracy: 0.9788\n",
      "Epoch: 50 / 200,Training Loss: 0.0016,Training Accuracy: 1.0000, Test Loss: 0.0819,Test Accuracy: 0.9786\n",
      "Epoch: 60 / 200,Training Loss: 0.0013,Training Accuracy: 1.0000, Test Loss: 0.0833,Test Accuracy: 0.9786\n",
      "Epoch: 70 / 200,Training Loss: 0.0012,Training Accuracy: 1.0000, Test Loss: 0.0842,Test Accuracy: 0.9786\n",
      "Epoch: 80 / 200,Training Loss: 0.0010,Training Accuracy: 1.0000, Test Loss: 0.0848,Test Accuracy: 0.9787\n",
      "Epoch: 90 / 200,Training Loss: 0.0010,Training Accuracy: 1.0000, Test Loss: 0.0852,Test Accuracy: 0.9788\n",
      "Epoch: 100 / 200,Training Loss: 0.0009,Training Accuracy: 1.0000, Test Loss: 0.0856,Test Accuracy: 0.9788\n",
      "Epoch: 110 / 200,Training Loss: 0.0009,Training Accuracy: 1.0000, Test Loss: 0.0859,Test Accuracy: 0.9788\n",
      "Epoch: 120 / 200,Training Loss: 0.0008,Training Accuracy: 1.0000, Test Loss: 0.0862,Test Accuracy: 0.9791\n",
      "Epoch: 130 / 200,Training Loss: 0.0008,Training Accuracy: 1.0000, Test Loss: 0.0864,Test Accuracy: 0.9792\n",
      "Epoch: 140 / 200,Training Loss: 0.0008,Training Accuracy: 1.0000, Test Loss: 0.0866,Test Accuracy: 0.9792\n",
      "Epoch: 150 / 200,Training Loss: 0.0008,Training Accuracy: 1.0000, Test Loss: 0.0867,Test Accuracy: 0.9793\n",
      "Epoch: 160 / 200,Training Loss: 0.0008,Training Accuracy: 1.0000, Test Loss: 0.0868,Test Accuracy: 0.9793\n",
      "Epoch: 170 / 200,Training Loss: 0.0007,Training Accuracy: 1.0000, Test Loss: 0.0869,Test Accuracy: 0.9793\n",
      "Epoch: 180 / 200,Training Loss: 0.0007,Training Accuracy: 1.0000, Test Loss: 0.0870,Test Accuracy: 0.9792\n",
      "Epoch: 190 / 200,Training Loss: 0.0007,Training Accuracy: 1.0000, Test Loss: 0.0871,Test Accuracy: 0.9791\n",
      "Epoch: 200 / 200,Training Loss: 0.0007,Training Accuracy: 1.0000, Test Loss: 0.0871,Test Accuracy: 0.9790\n"
     ]
    }
   ],
   "execution_count": 25
  },
  {
   "metadata": {
    "ExecuteTime": {
     "end_time": "2024-05-29T21:12:32.795888Z",
     "start_time": "2024-05-29T21:12:32.659183Z"
    }
   },
   "cell_type": "code",
   "source": [
    "plt.plot(loss_train)\n",
    "plt.plot(loss_test)\n",
    "plt.xlabel('Epoch')\n",
    "plt.ylabel('Loss')\n",
    "plt.show()"
   ],
   "id": "77623921188e9725",
   "outputs": [
    {
     "data": {
      "text/plain": [
       "<Figure size 640x480 with 1 Axes>"
      ],
      "image/png": "[encoded data removed]"
     },
     "metadata": {},
     "output_type": "display_data"
    }
   ],
   "execution_count": 26
  },
  {
   "metadata": {},
   "cell_type": "markdown",
   "source": [
    "Mini-Batch Gradient Descent with Momentum\n",
    "\n",
    "lr = 5e-2\n",
    "\n",
    "epochs = 200\n",
    "\n",
    "optimizer = Stochastic_Gradient_Descent_With_Momentum(lr=lr)\n",
    "\n",
    "scheduler = Learning_Rate_Scheduler(learning_rate=lr, decay_rate=0.9, decay_step=5) \n",
    "\n",
    "Training Loss: 0.0007,Training Accuracy: 1.0000, Test Loss: 0.0871,Test Accuracy: 0.9790\n"
   ],
   "id": "f39b696c8465ea8e"
  },
  {
   "metadata": {},
   "cell_type": "markdown",
   "source": "AdaGrad",
   "id": "c943aca426072a6e"
  },
  {
   "metadata": {
    "ExecuteTime": {
     "end_time": "2024-05-29T21:12:46.139822Z",
     "start_time": "2024-05-29T21:12:46.122699Z"
    }
   },
   "cell_type": "code",
   "source": "lr = 9e-3",
   "id": "8a7bab3fe84ed010",
   "outputs": [],
   "execution_count": 27
  },
  {
   "metadata": {
    "ExecuteTime": {
     "end_time": "2024-05-29T21:12:46.470587Z",
     "start_time": "2024-05-29T21:12:46.446558Z"
    }
   },
   "cell_type": "code",
   "source": "model_3 = Model(n_inputs, n_hidden_1, n_hidden_2, n_outputs)",
   "id": "2f230d62a7d0b1f6",
   "outputs": [],
   "execution_count": 28
  },
  {
   "metadata": {
    "ExecuteTime": {
     "end_time": "2024-05-29T21:12:46.783496Z",
     "start_time": "2024-05-29T21:12:46.763174Z"
    }
   },
   "cell_type": "code",
   "source": [
    "optimizer = AdaGrad(lr=lr)\n",
    "scheduler = Learning_Rate_Scheduler(learning_rate=lr, decay_rate=0.9, decay_step=5)"
   ],
   "id": "47bb25c54815166e",
   "outputs": [],
   "execution_count": 29
  },
  {
   "metadata": {
    "ExecuteTime": {
     "end_time": "2024-05-29T21:12:47.116042Z",
     "start_time": "2024-05-29T21:12:47.099338Z"
    }
   },
   "cell_type": "code",
   "source": [
    "loss_train = []\n",
    "loss_test = []"
   ],
   "id": "7300e6b06af78d04",
   "outputs": [],
   "execution_count": 30
  },
  {
   "metadata": {
    "ExecuteTime": {
     "end_time": "2024-05-29T22:23:49.805704Z",
     "start_time": "2024-05-29T21:12:47.915514Z"
    }
   },
   "cell_type": "code",
   "source": [
    "for epoch in range(epochs):\n",
    "    loss_ep = 0\n",
    "    total_accuracy = 0\n",
    "    for x,y in zip(x_train,y_train):\n",
    "        outputs = model_3.forward(x)\n",
    "        loss_batch = criterion.forward(y, outputs)\n",
    "        loss_ep += loss_batch\n",
    "        batch_acc = accuracy.forward(y, outputs)\n",
    "        total_accuracy += batch_acc\n",
    "        model_3.backward(optimizer, criterion, y, outputs)\n",
    "    loss_ep = loss_ep / len(x_train)\n",
    "    total_accuracy = total_accuracy/len(x_train)\n",
    "    loss_train.append(loss_ep)\n",
    "    outputs = model_3.forward(x_test)\n",
    "    test_loss_ep = criterion.forward(y_test_labels, outputs)\n",
    "    loss_test.append(test_loss_ep)\n",
    "    if (epoch + 1) % 10 == 0:\n",
    "        test_accuracy = accuracy.forward(y_test_labels, outputs)\n",
    "        print(f\"Epoch: {epoch + 1} / {epochs},Training Loss: {loss_ep:.4f},Training Accuracy: {total_accuracy:.4f}, Test Loss: {test_loss_ep:.4f},Test Accuracy: {test_accuracy:.4f}\")\n",
    "\n",
    "    optimizer.lr = scheduler.update_lr()\n",
    "    scheduler.update_step()"
   ],
   "id": "127b37277420cd6a",
   "outputs": [
    {
     "name": "stdout",
     "output_type": "stream",
     "text": [
      "Epoch: 10 / 200,Training Loss: 0.0637,Training Accuracy: 0.9829, Test Loss: 0.0879,Test Accuracy: 0.9737\n",
      "Epoch: 20 / 200,Training Loss: 0.0414,Training Accuracy: 0.9892, Test Loss: 0.0775,Test Accuracy: 0.9761\n",
      "Epoch: 30 / 200,Training Loss: 0.0316,Training Accuracy: 0.9928, Test Loss: 0.0738,Test Accuracy: 0.9771\n",
      "Epoch: 40 / 200,Training Loss: 0.0261,Training Accuracy: 0.9946, Test Loss: 0.0721,Test Accuracy: 0.9779\n",
      "Epoch: 50 / 200,Training Loss: 0.0227,Training Accuracy: 0.9959, Test Loss: 0.0713,Test Accuracy: 0.9782\n",
      "Epoch: 60 / 200,Training Loss: 0.0205,Training Accuracy: 0.9966, Test Loss: 0.0708,Test Accuracy: 0.9785\n",
      "Epoch: 70 / 200,Training Loss: 0.0190,Training Accuracy: 0.9971, Test Loss: 0.0706,Test Accuracy: 0.9788\n",
      "Epoch: 80 / 200,Training Loss: 0.0178,Training Accuracy: 0.9974, Test Loss: 0.0705,Test Accuracy: 0.9789\n",
      "Epoch: 90 / 200,Training Loss: 0.0170,Training Accuracy: 0.9976, Test Loss: 0.0704,Test Accuracy: 0.9789\n",
      "Epoch: 100 / 200,Training Loss: 0.0164,Training Accuracy: 0.9978, Test Loss: 0.0704,Test Accuracy: 0.9789\n",
      "Epoch: 110 / 200,Training Loss: 0.0160,Training Accuracy: 0.9979, Test Loss: 0.0704,Test Accuracy: 0.9789\n",
      "Epoch: 120 / 200,Training Loss: 0.0156,Training Accuracy: 0.9980, Test Loss: 0.0704,Test Accuracy: 0.9789\n",
      "Epoch: 130 / 200,Training Loss: 0.0154,Training Accuracy: 0.9981, Test Loss: 0.0704,Test Accuracy: 0.9789\n",
      "Epoch: 140 / 200,Training Loss: 0.0151,Training Accuracy: 0.9981, Test Loss: 0.0704,Test Accuracy: 0.9789\n",
      "Epoch: 150 / 200,Training Loss: 0.0150,Training Accuracy: 0.9982, Test Loss: 0.0704,Test Accuracy: 0.9789\n",
      "Epoch: 160 / 200,Training Loss: 0.0149,Training Accuracy: 0.9982, Test Loss: 0.0703,Test Accuracy: 0.9789\n",
      "Epoch: 170 / 200,Training Loss: 0.0148,Training Accuracy: 0.9982, Test Loss: 0.0703,Test Accuracy: 0.9789\n",
      "Epoch: 180 / 200,Training Loss: 0.0147,Training Accuracy: 0.9982, Test Loss: 0.0703,Test Accuracy: 0.9789\n",
      "Epoch: 190 / 200,Training Loss: 0.0146,Training Accuracy: 0.9982, Test Loss: 0.0703,Test Accuracy: 0.9789\n",
      "Epoch: 200 / 200,Training Loss: 0.0146,Training Accuracy: 0.9983, Test Loss: 0.0703,Test Accuracy: 0.9789\n"
     ]
    }
   ],
   "execution_count": 31
  },
  {
   "metadata": {
    "ExecuteTime": {
     "end_time": "2024-05-29T22:26:18.436342Z",
     "start_time": "2024-05-29T22:26:18.260227Z"
    }
   },
   "cell_type": "code",
   "source": [
    "plt.plot(loss_train)\n",
    "plt.plot(loss_test)\n",
    "plt.xlabel('Epoch')\n",
    "plt.ylabel('Loss')\n",
    "plt.show()"
   ],
   "id": "f234e9911449ca64",
   "outputs": [
    {
     "data": {
      "text/plain": [
       "<Figure size 640x480 with 1 Axes>"
      ],
      "image/png": "[encoded data removed]"
     },
     "metadata": {},
     "output_type": "display_data"
    }
   ],
   "execution_count": 32
  },
  {
   "metadata": {},
   "cell_type": "markdown",
   "source": [
    "AdaGrad \n",
    "\n",
    "lr = 9e-3\n",
    "\n",
    "epochs = 200\n",
    "\n",
    "optimizer = AdaGrad(lr=lr)\n",
    "\n",
    "scheduler = Learning_Rate_Scheduler(learning_rate=lr, decay_rate=0.9, decay_step=5)\n",
    "\n",
    "Training Loss: 0.0146,Training Accuracy: 0.9983, Test Loss: 0.0703,Test Accuracy: 0.9789"
   ],
   "id": "422372dcb95c42a"
  },
  {
   "metadata": {},
   "cell_type": "markdown",
   "source": "RMSProp",
   "id": "966ec2400cac78b2"
  },
  {
   "metadata": {
    "ExecuteTime": {
     "end_time": "2024-05-29T22:26:22.492632Z",
     "start_time": "2024-05-29T22:26:22.473572Z"
    }
   },
   "cell_type": "code",
   "source": "lr = 1e-4",
   "id": "d89517c2d9b0fcd0",
   "outputs": [],
   "execution_count": 33
  },
  {
   "metadata": {
    "ExecuteTime": {
     "end_time": "2024-05-29T22:26:22.984863Z",
     "start_time": "2024-05-29T22:26:22.971151Z"
    }
   },
   "cell_type": "code",
   "source": "model_4 = Model(n_inputs, n_hidden_1, n_hidden_2, n_outputs)",
   "id": "7d63e0674422b654",
   "outputs": [],
   "execution_count": 34
  },
  {
   "metadata": {
    "ExecuteTime": {
     "end_time": "2024-05-29T22:26:23.314803Z",
     "start_time": "2024-05-29T22:26:23.299864Z"
    }
   },
   "cell_type": "code",
   "source": [
    "optimizer = RMSProp(lr=lr)\n",
    "scheduler = Learning_Rate_Scheduler(learning_rate=lr, decay_rate=0.9, decay_step=5)"
   ],
   "id": "31da824162fc9399",
   "outputs": [],
   "execution_count": 35
  },
  {
   "metadata": {
    "ExecuteTime": {
     "end_time": "2024-05-29T22:26:30.992047Z",
     "start_time": "2024-05-29T22:26:30.974007Z"
    }
   },
   "cell_type": "code",
   "source": [
    "loss_train = []\n",
    "loss_test = []"
   ],
   "id": "8d0ee3c0a72adfef",
   "outputs": [],
   "execution_count": 36
  },
  {
   "metadata": {
    "ExecuteTime": {
     "end_time": "2024-05-29T23:54:21.331864Z",
     "start_time": "2024-05-29T22:26:32.425303Z"
    }
   },
   "cell_type": "code",
   "source": [
    "for epoch in range(epochs):\n",
    "    loss_ep = 0\n",
    "    total_accuracy = 0\n",
    "    for x,y in zip(x_train,y_train):\n",
    "        outputs = model_4.forward(x)\n",
    "        loss_batch = criterion.forward(y, outputs)\n",
    "        loss_ep += loss_batch\n",
    "        batch_acc = accuracy.forward(y, outputs)\n",
    "        total_accuracy += batch_acc\n",
    "        model_4.backward(optimizer, criterion, y, outputs)\n",
    "    loss_ep = loss_ep / len(x_train)\n",
    "    total_accuracy = total_accuracy/len(x_train)\n",
    "    loss_train.append(loss_ep)\n",
    "    outputs = model_4.forward(x_test)\n",
    "    test_loss_ep = criterion.forward(y_test_labels, outputs)\n",
    "    loss_test.append(test_loss_ep)\n",
    "    if (epoch + 1) % 10 == 0:\n",
    "        test_accuracy = accuracy.forward(y_test_labels, outputs)\n",
    "        print(f\"Epoch: {epoch + 1} / {epochs},Training Loss: {loss_ep:.4f},Training Accuracy: {total_accuracy:.4f}, Test Loss: {test_loss_ep:.4f},Test Accuracy: {test_accuracy:.4f}\")\n",
    "\n",
    "    optimizer.lr = scheduler.update_lr()\n",
    "    scheduler.update_step()"
   ],
   "id": "a614095870790296",
   "outputs": [
    {
     "name": "stdout",
     "output_type": "stream",
     "text": [
      "Epoch: 10 / 200,Training Loss: 0.0991,Training Accuracy: 0.9710, Test Loss: 0.1102,Test Accuracy: 0.9649\n",
      "Epoch: 20 / 200,Training Loss: 0.0575,Training Accuracy: 0.9838, Test Loss: 0.0851,Test Accuracy: 0.9736\n",
      "Epoch: 30 / 200,Training Loss: 0.0406,Training Accuracy: 0.9891, Test Loss: 0.0785,Test Accuracy: 0.9762\n",
      "Epoch: 40 / 200,Training Loss: 0.0315,Training Accuracy: 0.9916, Test Loss: 0.0765,Test Accuracy: 0.9767\n",
      "Epoch: 50 / 200,Training Loss: 0.0260,Training Accuracy: 0.9931, Test Loss: 0.0759,Test Accuracy: 0.9778\n",
      "Epoch: 60 / 200,Training Loss: 0.0223,Training Accuracy: 0.9941, Test Loss: 0.0759,Test Accuracy: 0.9779\n",
      "Epoch: 70 / 200,Training Loss: 0.0199,Training Accuracy: 0.9949, Test Loss: 0.0765,Test Accuracy: 0.9779\n",
      "Epoch: 80 / 200,Training Loss: 0.0181,Training Accuracy: 0.9956, Test Loss: 0.0772,Test Accuracy: 0.9777\n",
      "Epoch: 90 / 200,Training Loss: 0.0169,Training Accuracy: 0.9961, Test Loss: 0.0780,Test Accuracy: 0.9776\n",
      "Epoch: 100 / 200,Training Loss: 0.0160,Training Accuracy: 0.9962, Test Loss: 0.0787,Test Accuracy: 0.9777\n",
      "Epoch: 110 / 200,Training Loss: 0.0153,Training Accuracy: 0.9964, Test Loss: 0.0794,Test Accuracy: 0.9773\n",
      "Epoch: 120 / 200,Training Loss: 0.0148,Training Accuracy: 0.9966, Test Loss: 0.0800,Test Accuracy: 0.9775\n",
      "Epoch: 130 / 200,Training Loss: 0.0144,Training Accuracy: 0.9967, Test Loss: 0.0805,Test Accuracy: 0.9776\n",
      "Epoch: 140 / 200,Training Loss: 0.0140,Training Accuracy: 0.9968, Test Loss: 0.0809,Test Accuracy: 0.9778\n",
      "Epoch: 150 / 200,Training Loss: 0.0138,Training Accuracy: 0.9968, Test Loss: 0.0813,Test Accuracy: 0.9777\n",
      "Epoch: 160 / 200,Training Loss: 0.0136,Training Accuracy: 0.9968, Test Loss: 0.0815,Test Accuracy: 0.9778\n",
      "Epoch: 170 / 200,Training Loss: 0.0134,Training Accuracy: 0.9969, Test Loss: 0.0818,Test Accuracy: 0.9780\n",
      "Epoch: 180 / 200,Training Loss: 0.0133,Training Accuracy: 0.9969, Test Loss: 0.0820,Test Accuracy: 0.9780\n",
      "Epoch: 190 / 200,Training Loss: 0.0132,Training Accuracy: 0.9970, Test Loss: 0.0822,Test Accuracy: 0.9780\n",
      "Epoch: 200 / 200,Training Loss: 0.0131,Training Accuracy: 0.9970, Test Loss: 0.0823,Test Accuracy: 0.9780\n"
     ]
    }
   ],
   "execution_count": 37
  },
  {
   "metadata": {
    "ExecuteTime": {
     "end_time": "2024-05-29T23:59:33.582838Z",
     "start_time": "2024-05-29T23:59:33.299868Z"
    }
   },
   "cell_type": "code",
   "source": [
    "plt.plot(loss_train)\n",
    "plt.plot(loss_test)\n",
    "plt.xlabel('Epoch')\n",
    "plt.ylabel('Loss')\n",
    "plt.show()"
   ],
   "id": "d0ba392a70f75b30",
   "outputs": [
    {
     "data": {
      "text/plain": [
       "<Figure size 640x480 with 1 Axes>"
      ],
      "image/png": "[encoded data removed]"
     },
     "metadata": {},
     "output_type": "display_data"
    }
   ],
   "execution_count": 38
  },
  {
   "metadata": {},
   "cell_type": "markdown",
   "source": [
    "RMS Prop\n",
    "\n",
    "lr = 1e-4\n",
    "\n",
    "epoch = 200\n",
    "\n",
    "optimizer = RMSProp(lr=lr)\n",
    "\n",
    "scheduler = Learning_Rate_Scheduler(learning_rate=lr, decay_rate=0.9, decay_step=5)\n",
    "\n",
    "Training Loss: 0.0131,Training Accuracy: 0.9970, Test Loss: 0.0823,Test Accuracy: 0.9780"
   ],
   "id": "7a5e98e8340a85c9"
  },
  {
   "metadata": {},
   "cell_type": "markdown",
   "source": "Adadelta",
   "id": "39e86f37c923f9d8"
  },
  {
   "metadata": {
    "ExecuteTime": {
     "end_time": "2024-05-29T23:59:38.238637Z",
     "start_time": "2024-05-29T23:59:38.195591Z"
    }
   },
   "cell_type": "code",
   "source": "model_5 = Model(n_inputs, n_hidden_1, n_hidden_2, n_outputs)",
   "id": "e8a9dd70e9acad2b",
   "outputs": [],
   "execution_count": 39
  },
  {
   "metadata": {
    "ExecuteTime": {
     "end_time": "2024-05-29T23:59:38.511750Z",
     "start_time": "2024-05-29T23:59:38.493150Z"
    }
   },
   "cell_type": "code",
   "source": "optimizer = Adadelta()",
   "id": "34ee2c0b21faba47",
   "outputs": [],
   "execution_count": 40
  },
  {
   "metadata": {
    "ExecuteTime": {
     "end_time": "2024-05-29T23:59:38.885459Z",
     "start_time": "2024-05-29T23:59:38.875584Z"
    }
   },
   "cell_type": "code",
   "source": [
    "loss_train = []\n",
    "loss_test = []"
   ],
   "id": "e7d0e86b0cffb71d",
   "outputs": [],
   "execution_count": 41
  },
  {
   "metadata": {
    "ExecuteTime": {
     "end_time": "2024-05-30T01:20:15.776367Z",
     "start_time": "2024-05-29T23:59:39.572668Z"
    }
   },
   "cell_type": "code",
   "source": [
    "for epoch in range(epochs):\n",
    "    loss_ep = 0\n",
    "    total_accuracy = 0\n",
    "    for x,y in zip(x_train,y_train):\n",
    "        outputs = model_5.forward(x)\n",
    "        loss_batch = criterion.forward(y, outputs)\n",
    "        loss_ep += loss_batch\n",
    "        batch_acc = accuracy.forward(y, outputs)\n",
    "        total_accuracy += batch_acc\n",
    "        model_5.backward(optimizer, criterion, y, outputs)\n",
    "    loss_ep = loss_ep / len(x_train)\n",
    "    total_accuracy = total_accuracy/len(x_train)\n",
    "    loss_train.append(loss_ep)\n",
    "    outputs = model_5.forward(x_test)\n",
    "    test_loss_ep = criterion.forward(y_test_labels, outputs)\n",
    "    loss_test.append(test_loss_ep)\n",
    "    if (epoch + 1) % 10 == 0:\n",
    "        test_accuracy = accuracy.forward(y_test_labels, outputs)\n",
    "        print(f\"Epoch: {epoch + 1} / {epochs},Training Loss: {loss_ep:.4f},Training Accuracy: {total_accuracy:.4f}, Test Loss: {test_loss_ep:.4f},Test Accuracy: {test_accuracy:.4f}\")\n"
   ],
   "id": "d6d5f2437dfd8bfb",
   "outputs": [
    {
     "name": "stdout",
     "output_type": "stream",
     "text": [
      "Epoch: 10 / 200,Training Loss: 0.0222,Training Accuracy: 0.9947, Test Loss: 0.0865,Test Accuracy: 0.9771\n",
      "Epoch: 20 / 200,Training Loss: 0.0052,Training Accuracy: 0.9989, Test Loss: 0.1215,Test Accuracy: 0.9765\n",
      "Epoch: 30 / 200,Training Loss: 0.0020,Training Accuracy: 0.9996, Test Loss: 0.1565,Test Accuracy: 0.9752\n",
      "Epoch: 40 / 200,Training Loss: 0.0009,Training Accuracy: 0.9998, Test Loss: 0.1918,Test Accuracy: 0.9739\n",
      "Epoch: 50 / 200,Training Loss: 0.0006,Training Accuracy: 0.9999, Test Loss: 0.2035,Test Accuracy: 0.9754\n",
      "Epoch: 60 / 200,Training Loss: 0.0003,Training Accuracy: 1.0000, Test Loss: 0.2099,Test Accuracy: 0.9765\n",
      "Epoch: 70 / 200,Training Loss: 0.0001,Training Accuracy: 1.0000, Test Loss: 0.2157,Test Accuracy: 0.9763\n",
      "Epoch: 80 / 200,Training Loss: 0.0000,Training Accuracy: 1.0000, Test Loss: 0.2183,Test Accuracy: 0.9767\n",
      "Epoch: 90 / 200,Training Loss: 0.0000,Training Accuracy: 1.0000, Test Loss: 0.2189,Test Accuracy: 0.9773\n",
      "Epoch: 100 / 200,Training Loss: 0.0000,Training Accuracy: 1.0000, Test Loss: 0.2196,Test Accuracy: 0.9768\n",
      "Epoch: 110 / 200,Training Loss: 0.0000,Training Accuracy: 1.0000, Test Loss: 0.2201,Test Accuracy: 0.9767\n",
      "Epoch: 120 / 200,Training Loss: 0.0000,Training Accuracy: 1.0000, Test Loss: 0.2205,Test Accuracy: 0.9768\n",
      "Epoch: 130 / 200,Training Loss: 0.0000,Training Accuracy: 1.0000, Test Loss: 0.2208,Test Accuracy: 0.9767\n",
      "Epoch: 140 / 200,Training Loss: 0.0000,Training Accuracy: 1.0000, Test Loss: 0.2211,Test Accuracy: 0.9767\n",
      "Epoch: 150 / 200,Training Loss: 0.0000,Training Accuracy: 1.0000, Test Loss: 0.2213,Test Accuracy: 0.9767\n",
      "Epoch: 160 / 200,Training Loss: 0.0000,Training Accuracy: 1.0000, Test Loss: 0.2215,Test Accuracy: 0.9768\n",
      "Epoch: 170 / 200,Training Loss: 0.0000,Training Accuracy: 1.0000, Test Loss: 0.2217,Test Accuracy: 0.9768\n",
      "Epoch: 180 / 200,Training Loss: 0.0000,Training Accuracy: 1.0000, Test Loss: 0.2218,Test Accuracy: 0.9767\n",
      "Epoch: 190 / 200,Training Loss: 0.0000,Training Accuracy: 1.0000, Test Loss: 0.2220,Test Accuracy: 0.9767\n",
      "Epoch: 200 / 200,Training Loss: 0.0000,Training Accuracy: 1.0000, Test Loss: 0.2221,Test Accuracy: 0.9766\n"
     ]
    }
   ],
   "execution_count": 42
  },
  {
   "metadata": {
    "ExecuteTime": {
     "end_time": "2024-05-30T01:27:31.412728Z",
     "start_time": "2024-05-30T01:27:31.239365Z"
    }
   },
   "cell_type": "code",
   "source": [
    "plt.plot(loss_train)\n",
    "plt.plot(loss_test)\n",
    "plt.xlabel('Epoch')\n",
    "plt.ylabel('Loss')\n",
    "plt.show()"
   ],
   "id": "3dca1323e7e80a4e",
   "outputs": [
    {
     "data": {
      "text/plain": [
       "<Figure size 640x480 with 1 Axes>"
      ],
      "image/png": "[encoded data removed]"
     },
     "metadata": {},
     "output_type": "display_data"
    }
   ],
   "execution_count": 43
  },
  {
   "metadata": {},
   "cell_type": "markdown",
   "source": [
    "Adadelta\n",
    "\n",
    "lr = No need\n",
    "\n",
    "epochs = 200\n",
    "\n",
    "optimizer = Adadelta()\n",
    "\n",
    "scheduler = No need\n",
    "\n",
    "Training Loss: 0.0000,Training Accuracy: 1.0000, Test Loss: 0.2221,Test Accuracy: 0.9766"
   ],
   "id": "19e3fc862c69baa7"
  },
  {
   "metadata": {},
   "cell_type": "markdown",
   "source": "Adam",
   "id": "81e70f0c802d5170"
  },
  {
   "metadata": {
    "ExecuteTime": {
     "end_time": "2024-05-30T01:27:36.463519Z",
     "start_time": "2024-05-30T01:27:36.452498Z"
    }
   },
   "cell_type": "code",
   "source": "lr = 5e-5",
   "id": "fcfc41bc629c32bf",
   "outputs": [],
   "execution_count": 44
  },
  {
   "metadata": {
    "ExecuteTime": {
     "end_time": "2024-05-30T01:27:36.793857Z",
     "start_time": "2024-05-30T01:27:36.784529Z"
    }
   },
   "cell_type": "code",
   "source": [
    "optimizer = Adam(lr=lr, beta1=0.99, beta2=0.99)\n",
    "scheduler = Learning_Rate_Scheduler(learning_rate=lr, decay_rate=0.9, decay_step=5)"
   ],
   "id": "c303b2389aca76ee",
   "outputs": [],
   "execution_count": 45
  },
  {
   "metadata": {
    "ExecuteTime": {
     "end_time": "2024-05-30T01:27:38.148900Z",
     "start_time": "2024-05-30T01:27:38.134102Z"
    }
   },
   "cell_type": "code",
   "source": "model_6 = Model(n_inputs, n_hidden_1, n_hidden_2, n_outputs)",
   "id": "4dbb1460bee0da4a",
   "outputs": [],
   "execution_count": 46
  },
  {
   "metadata": {
    "ExecuteTime": {
     "end_time": "2024-05-30T01:27:38.509129Z",
     "start_time": "2024-05-30T01:27:38.504941Z"
    }
   },
   "cell_type": "code",
   "source": [
    "loss_train = []\n",
    "loss_test = []"
   ],
   "id": "8cf900e124fed924",
   "outputs": [],
   "execution_count": 47
  },
  {
   "metadata": {
    "ExecuteTime": {
     "end_time": "2024-05-30T02:50:58.048861Z",
     "start_time": "2024-05-30T01:27:39.124795Z"
    }
   },
   "cell_type": "code",
   "source": [
    "for epoch in range(epochs):\n",
    "    loss_ep = 0\n",
    "    total_accuracy = 0\n",
    "    for x,y in zip(x_train,y_train):\n",
    "        outputs = model_6.forward(x)\n",
    "        loss_batch = criterion.forward(y, outputs)\n",
    "        loss_ep += loss_batch\n",
    "        batch_acc = accuracy.forward(y, outputs)\n",
    "        total_accuracy += batch_acc\n",
    "        model_6.backward(optimizer, criterion, y, outputs)\n",
    "    loss_ep = loss_ep / len(x_train)\n",
    "    total_accuracy = total_accuracy/len(x_train)\n",
    "    loss_train.append(loss_ep)\n",
    "    outputs = model_6.forward(x_test)\n",
    "    test_loss_ep = criterion.forward(y_test_labels, outputs)\n",
    "    loss_test.append(test_loss_ep)\n",
    "    if (epoch + 1) % 10 == 0:\n",
    "        test_accuracy = accuracy.forward(y_test_labels, outputs)\n",
    "        print(f\"Epoch: {epoch + 1} / {epochs},Training Loss: {loss_ep:.4f},Training Accuracy: {total_accuracy:.4f}, Test Loss: {test_loss_ep:.4f},Test Accuracy: {test_accuracy:.4f}\")\n",
    "\n",
    "    optimizer.lr = scheduler.update_lr()\n",
    "    scheduler.update_step()"
   ],
   "id": "4a167922dc0249d1",
   "outputs": [
    {
     "name": "stdout",
     "output_type": "stream",
     "text": [
      "Epoch: 10 / 200,Training Loss: 0.1400,Training Accuracy: 0.9588, Test Loss: 0.1433,Test Accuracy: 0.9581\n",
      "Epoch: 20 / 200,Training Loss: 0.0855,Training Accuracy: 0.9759, Test Loss: 0.1030,Test Accuracy: 0.9693\n",
      "Epoch: 30 / 200,Training Loss: 0.0604,Training Accuracy: 0.9837, Test Loss: 0.0876,Test Accuracy: 0.9726\n",
      "Epoch: 40 / 200,Training Loss: 0.0458,Training Accuracy: 0.9881, Test Loss: 0.0801,Test Accuracy: 0.9750\n",
      "Epoch: 50 / 200,Training Loss: 0.0364,Training Accuracy: 0.9913, Test Loss: 0.0760,Test Accuracy: 0.9767\n",
      "Epoch: 60 / 200,Training Loss: 0.0300,Training Accuracy: 0.9932, Test Loss: 0.0735,Test Accuracy: 0.9770\n",
      "Epoch: 70 / 200,Training Loss: 0.0255,Training Accuracy: 0.9947, Test Loss: 0.0720,Test Accuracy: 0.9778\n",
      "Epoch: 80 / 200,Training Loss: 0.0222,Training Accuracy: 0.9955, Test Loss: 0.0711,Test Accuracy: 0.9785\n",
      "Epoch: 90 / 200,Training Loss: 0.0197,Training Accuracy: 0.9963, Test Loss: 0.0706,Test Accuracy: 0.9788\n",
      "Epoch: 100 / 200,Training Loss: 0.0179,Training Accuracy: 0.9968, Test Loss: 0.0703,Test Accuracy: 0.9790\n",
      "Epoch: 110 / 200,Training Loss: 0.0165,Training Accuracy: 0.9971, Test Loss: 0.0701,Test Accuracy: 0.9790\n",
      "Epoch: 120 / 200,Training Loss: 0.0154,Training Accuracy: 0.9974, Test Loss: 0.0700,Test Accuracy: 0.9792\n",
      "Epoch: 130 / 200,Training Loss: 0.0146,Training Accuracy: 0.9977, Test Loss: 0.0700,Test Accuracy: 0.9796\n",
      "Epoch: 140 / 200,Training Loss: 0.0139,Training Accuracy: 0.9979, Test Loss: 0.0700,Test Accuracy: 0.9798\n",
      "Epoch: 150 / 200,Training Loss: 0.0134,Training Accuracy: 0.9981, Test Loss: 0.0700,Test Accuracy: 0.9801\n",
      "Epoch: 160 / 200,Training Loss: 0.0130,Training Accuracy: 0.9983, Test Loss: 0.0700,Test Accuracy: 0.9800\n",
      "Epoch: 170 / 200,Training Loss: 0.0127,Training Accuracy: 0.9983, Test Loss: 0.0701,Test Accuracy: 0.9800\n",
      "Epoch: 180 / 200,Training Loss: 0.0124,Training Accuracy: 0.9985, Test Loss: 0.0701,Test Accuracy: 0.9801\n",
      "Epoch: 190 / 200,Training Loss: 0.0122,Training Accuracy: 0.9985, Test Loss: 0.0701,Test Accuracy: 0.9801\n",
      "Epoch: 200 / 200,Training Loss: 0.0121,Training Accuracy: 0.9985, Test Loss: 0.0701,Test Accuracy: 0.9802\n"
     ]
    }
   ],
   "execution_count": 48
  },
  {
   "metadata": {
    "ExecuteTime": {
     "end_time": "2024-05-30T02:55:06.191378Z",
     "start_time": "2024-05-30T02:55:05.881232Z"
    }
   },
   "cell_type": "code",
   "source": [
    "plt.plot(loss_train)\n",
    "plt.plot(loss_test)\n",
    "plt.xlabel('Epoch')\n",
    "plt.ylabel('Loss')\n",
    "plt.show()"
   ],
   "id": "c13546c5a9ebc04a",
   "outputs": [
    {
     "data": {
      "text/plain": [
       "<Figure size 640x480 with 1 Axes>"
      ],
      "image/png": "[encoded data removed]"
     },
     "metadata": {},
     "output_type": "display_data"
    }
   ],
   "execution_count": 49
  },
  {
   "metadata": {},
   "cell_type": "markdown",
   "source": [
    "Adam Optimizer:\n",
    "\n",
    "lr = 5e-5\n",
    "\n",
    "epochs = 200\n",
    "\n",
    "optimizer = Adam(lr=lr, beta1=0.99, beta2=0.99)\n",
    "\n",
    "scheduler = Learning_Rate_Scheduler(learning_rate=lr, decay_rate=0.9, decay_step=5)\n",
    "\n",
    "Training Loss: 0.0121,Training Accuracy: 0.9985, Test Loss: 0.0701,Test Accuracy: 0.9802"
   ],
   "id": "63b29b15ee7d8474"
  }
 ],
 "metadata": {
  "kernelspec": {
   "display_name": "Python 3",
   "language": "python",
   "name": "python3"
  },
  "language_info": {
   "codemirror_mode": {
    "name": "ipython",
    "version": 2
   },
   "file_extension": ".py",
   "mimetype": "text/x-python",
   "name": "python",
   "nbconvert_exporter": "python",
   "pygments_lexer": "ipython2",
   "version": "2.7.6"
  }
 },
 "nbformat": 4,
 "nbformat_minor": 5
}
